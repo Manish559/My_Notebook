{
 "cells": [
  {
   "cell_type": "markdown",
   "id": "b16d2f07",
   "metadata": {},
   "source": [
    "# Data Science Tools And Ecosystem "
   ]
  },
  {
   "cell_type": "markdown",
   "id": "e2cd71fc",
   "metadata": {},
   "source": [
    "In this notebook, We summarized the Data Science Tools."
   ]
  },
  {
   "cell_type": "markdown",
   "id": "468701df",
   "metadata": {},
   "source": [
    "Some of the popular languages that Data Scientists use are:\n",
    "1.Python\n",
    "2.R\n",
    "3.Java\n",
    "4.SQL\n",
    "5.C++, etc..."
   ]
  },
  {
   "cell_type": "markdown",
   "id": "f9b8b49b",
   "metadata": {},
   "source": [
    "Some of the commonly used libraries used by Data Scientists include:\n",
    "1.Tensorflow\n",
    "2.Numpy\n",
    "3.Scipy\n",
    "4.Pandas\n",
    "5.Keras\n",
    "6.Matplotlib\n",
    "7.Pytorch, etc..."
   ]
  },
  {
   "cell_type": "markdown",
   "id": "fb6297f8",
   "metadata": {},
   "source": [
    "|Data Science Tools|\n",
    "|---|\n",
    "|SAS|\n",
    "|Apache Hadoop|\n",
    "|Tensorflow"
   ]
  },
  {
   "cell_type": "markdown",
   "id": "54e77a02",
   "metadata": {},
   "source": [
    "### Below are a few examples of evaluating arithmetic expressions in Python"
   ]
  },
  {
   "cell_type": "code",
   "execution_count": 1,
   "id": "bcffe793",
   "metadata": {},
   "outputs": [
    {
     "data": {
      "text/plain": [
       "17"
      ]
     },
     "execution_count": 1,
     "metadata": {},
     "output_type": "execute_result"
    }
   ],
   "source": [
    " #This a simple arithmetic expression to mutiply then add integers\n",
    "(3*4)+5"
   ]
  },
  {
   "cell_type": "code",
   "execution_count": 2,
   "id": "74a24399",
   "metadata": {},
   "outputs": [
    {
     "data": {
      "text/plain": [
       "3.3333333333333335"
      ]
     },
     "execution_count": 2,
     "metadata": {},
     "output_type": "execute_result"
    }
   ],
   "source": [
    "#This will convert 200 minutes to hours by diving by 60.\n",
    "200/60"
   ]
  },
  {
   "cell_type": "markdown",
   "id": "0ecf243c",
   "metadata": {},
   "source": [
    "___Objectives__\n",
    "* List popular languages for Data science\n",
    "* List popular libraries for Data science\n",
    "* List of well known Data science tools\n",
    "* How to provide comment in the cell"
   ]
  },
  {
   "cell_type": "markdown",
   "id": "40dab751",
   "metadata": {},
   "source": [
    "## Author\n",
    "Manish Shrestha"
   ]
  }
 ],
 "metadata": {
  "kernelspec": {
   "display_name": "Python 3 (ipykernel)",
   "language": "python",
   "name": "python3"
  },
  "language_info": {
   "codemirror_mode": {
    "name": "ipython",
    "version": 3
   },
   "file_extension": ".py",
   "mimetype": "text/x-python",
   "name": "python",
   "nbconvert_exporter": "python",
   "pygments_lexer": "ipython3",
   "version": "3.11.4"
  }
 },
 "nbformat": 4,
 "nbformat_minor": 5
}
